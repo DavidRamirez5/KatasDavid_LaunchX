{
 "cells": [
  {
   "cell_type": "markdown",
   "metadata": {},
   "source": [
    "# Ejercicio1 - Utilizar operadores aritméticos."
   ]
  },
  {
   "cell_type": "code",
   "execution_count": 2,
   "metadata": {},
   "outputs": [
    {
     "name": "stdout",
     "output_type": "stream",
     "text": [
      " La distancaa en de la tiera a jupiter es de: 628949330 km o 390577534 millas.\n"
     ]
    }
   ],
   "source": [
    "# Creación de variables.\n",
    "Tierra=149597870 \n",
    "Jupiter=778547200\n",
    "\n",
    "distancia= Jupiter-Tierra\n",
    "millas= abs(distancia)* 0.621\n",
    "print(f\"\"\" La distancia en de la tiera a jupiter es de: {round(distancia)} km o {round(millas)} millas.\"\"\")\n",
    "#.621"
   ]
  },
  {
   "cell_type": "markdown",
   "metadata": {},
   "source": [
    "# Ejercicio 2: convierte cadenas en números y usa valores absolutos"
   ]
  },
  {
   "cell_type": "code",
   "execution_count": 3,
   "metadata": {},
   "outputs": [
    {
     "name": "stdout",
     "output_type": "stream",
     "text": [
      "La distancia del primer planeta con el seugndo es de: 550700000 km o 341984700.0 millas\n"
     ]
    }
   ],
   "source": [
    "# Leer valores de 2 planetas\n",
    "\n",
    "planeta1= input('Ingrese valor de la distancias del sol al planeta en km (planeta 1)')\n",
    "planeta2=input('Ingrese valor de la distancias del sol al planeta en km(planeta 2)')\n",
    "\n",
    "# Conviertiendo valores numericos.\n",
    "planeta1=int(planeta1)\n",
    "planeta2=int(planeta2)\n",
    "\n",
    "distancia=abs(planeta2-planeta1)\n",
    "\n",
    "print(f'La distancia del primer planeta con el seugndo es de: {distancia} km o {distancia*0.621} millas')\n",
    "\n"
   ]
  }
 ],
 "metadata": {
  "interpreter": {
   "hash": "d65f8af9b1347936d5c0a715a1a101b7602968bee42a1bc2161adfc924f1cbb0"
  },
  "kernelspec": {
   "display_name": "Python 3.9.7 64-bit",
   "language": "python",
   "name": "python3"
  },
  "language_info": {
   "codemirror_mode": {
    "name": "ipython",
    "version": 3
   },
   "file_extension": ".py",
   "mimetype": "text/x-python",
   "name": "python",
   "nbconvert_exporter": "python",
   "pygments_lexer": "ipython3",
   "version": "3.9.7"
  },
  "orig_nbformat": 4
 },
 "nbformat": 4,
 "nbformat_minor": 2
}
