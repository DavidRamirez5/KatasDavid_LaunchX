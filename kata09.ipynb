{
 "cells": [
  {
   "cell_type": "markdown",
   "metadata": {},
   "source": [
    "# Ejercicio: Uso de funciones en Python"
   ]
  },
  {
   "cell_type": "code",
   "execution_count": 7,
   "metadata": {},
   "outputs": [],
   "source": [
    "# Funcion para leer 3 tanques de combustible y devuelva un informe\n",
    "\n",
    "def leer(tanque1,tanque2,tanque3):\n",
    "    return print( f\"\"\" Informe sobre los Tanques.\n",
    "    -----------------------------------------------\n",
    "    Tanque 1 = {tanque1} lt\n",
    "    Tanque 2 = {tanque2} lt\n",
    "    Tanque 3 = {tanque3} lt    \n",
    "    \"\"\")"
   ]
  },
  {
   "cell_type": "markdown",
   "metadata": {},
   "source": [
    "### Llamamos a la función.\n"
   ]
  },
  {
   "cell_type": "code",
   "execution_count": 9,
   "metadata": {},
   "outputs": [
    {
     "name": "stdout",
     "output_type": "stream",
     "text": [
      " Informe sobre los Tanques.\n",
      "    -----------------------------------------------\n",
      "    Tanque 1 = 80 lt\n",
      "    Tanque 2 = 90 lt\n",
      "    Tanque 3 = 35 lt    \n",
      "    \n"
     ]
    }
   ],
   "source": [
    "leer(80,90,35)"
   ]
  },
  {
   "cell_type": "markdown",
   "metadata": {},
   "source": [
    "### Funcion promedio"
   ]
  },
  {
   "cell_type": "code",
   "execution_count": 10,
   "metadata": {},
   "outputs": [],
   "source": [
    "def promedio(tanques):\n",
    "    suma=sum(tanques)\n",
    "    num_tanques=len(tanques)\n",
    "    prom= suma/num_tanques\n",
    "    return prom"
   ]
  },
  {
   "cell_type": "markdown",
   "metadata": {},
   "source": [
    "# Actualización de función"
   ]
  },
  {
   "cell_type": "code",
   "execution_count": 14,
   "metadata": {},
   "outputs": [
    {
     "name": "stdout",
     "output_type": "stream",
     "text": [
      " Informe sobre los Tanques.\n",
      "    -----------------------------------------------\n",
      "    Tanque 1 = 80 lt\n",
      "    Tanque 2 = 90 lt\n",
      "    Tanque 3 = 35 lt  \n",
      "    Promedio de los tres tanques= 68.33 lt  \n",
      "    \n"
     ]
    }
   ],
   "source": [
    "\n",
    "def leer(tanque1,tanque2,tanque3):\n",
    "    return print( f\"\"\" Informe sobre los Tanques.\n",
    "    -----------------------------------------------\n",
    "    Tanque 1 = {tanque1} lt\n",
    "    Tanque 2 = {tanque2} lt\n",
    "    Tanque 3 = {tanque3} lt  \n",
    "    Promedio de los tres tanques= {round(promedio([tanque1,tanque2,tanque3]),2)} lt  \n",
    "    \"\"\")\n",
    "\n",
    "leer(80,90,35)"
   ]
  },
  {
   "cell_type": "markdown",
   "metadata": {},
   "source": [
    "# Ejercicio 2: Trabajo con argumentos de palabra clave"
   ]
  },
  {
   "cell_type": "code",
   "execution_count": 16,
   "metadata": {},
   "outputs": [
    {
     "name": "stdout",
     "output_type": "stream",
     "text": [
      " \n",
      "           Informe de Nave.\n",
      "        -------------------------\n",
      "        Hora de prelanzamiento:12:30\n",
      "        Tiempo de Vuelo:5\n",
      "        Destino:Moon\n",
      "        Tanque externo:10\n",
      "        Tanque Interno:15\n",
      "    \n",
      "    \n"
     ]
    }
   ],
   "source": [
    "#Considera hora de prelanzamiento, tiempo de vuelo, \n",
    "# destino, tanque externo y tanque interno\n",
    "\n",
    "def informe(hora_p,tiempo_v,destino,tanque_e,tanque_i):\n",
    "    return print(f\"\"\" \n",
    "           Informe de Nave.\n",
    "        {'-'*25}\n",
    "        Hora de prelanzamiento:{hora_p}\n",
    "        Tiempo de Vuelo:{tiempo_v}\n",
    "        Destino:{destino}\n",
    "        Tanque externo:{tanque_e}\n",
    "        Tanque Interno:{tanque_i}\n",
    "    \n",
    "    \"\"\")\n",
    "\n",
    "informe('12:30',5,'Moon',10,15)"
   ]
  },
  {
   "cell_type": "markdown",
   "metadata": {},
   "source": [
    "# Nueva Función"
   ]
  },
  {
   "cell_type": "code",
   "execution_count": 17,
   "metadata": {},
   "outputs": [
    {
     "name": "stdout",
     "output_type": "stream",
     "text": [
      "Datos de Informe \n",
      "\n",
      "    Destino de Misión: Tierra\n",
      "    Total de minutos: 132 min\n",
      "    Total de tanques: 27    \n",
      "    \n",
      "    \n"
     ]
    }
   ],
   "source": [
    "def informe(destino,*minutos,**tanques):\n",
    "    return print(f\"\"\"Datos de Informe \n",
    "\n",
    "    Destino de Misión: {destino}\n",
    "    Total de minutos: {sum(minutos)} min\n",
    "    Total de tanques: {sum(tanques.values())}    \n",
    "    \n",
    "    \"\"\")\n",
    "\n",
    "informe('Tierra',50,70,12,interno=15,externo=12)"
   ]
  }
 ],
 "metadata": {
  "interpreter": {
   "hash": "d65f8af9b1347936d5c0a715a1a101b7602968bee42a1bc2161adfc924f1cbb0"
  },
  "kernelspec": {
   "display_name": "Python 3.9.7 64-bit",
   "language": "python",
   "name": "python3"
  },
  "language_info": {
   "codemirror_mode": {
    "name": "ipython",
    "version": 3
   },
   "file_extension": ".py",
   "mimetype": "text/x-python",
   "name": "python",
   "nbconvert_exporter": "python",
   "pygments_lexer": "ipython3",
   "version": "3.9.7"
  },
  "orig_nbformat": 4
 },
 "nbformat": 4,
 "nbformat_minor": 2
}
