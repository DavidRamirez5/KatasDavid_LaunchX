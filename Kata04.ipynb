{
 "cells": [
  {
   "cell_type": "markdown",
   "metadata": {},
   "source": [
    "# Ejercicio 1: Transformar cadenas.\n",
    "\n"
   ]
  },
  {
   "cell_type": "code",
   "execution_count": 25,
   "metadata": {},
   "outputs": [
    {
     "name": "stdout",
     "output_type": "stream",
     "text": [
      "Curios fact:  The Moon is Earth's only satellite\n",
      "Curios fact:  On average, the Moon moves 4cm away from the Earth every year\n",
      "Curios fact:  The highest daylight temperature of the Moon is 127 C\n"
     ]
    }
   ],
   "source": [
    "text = \"\"\"Interesting facts about the Moon. The Moon is Earth's only satellite. There are several interesting facts about the Moon and how it affects life here on Earth. On average, the Moon moves 4cm away from the Earth every year. This yearly drift is not significant enough to cause immediate effects on Earth. The highest daylight temperature of the Moon is 127 C.\"\"\"\n",
    "\n",
    "# Se divide el texto por oraciónes para trabajar con su contenido\n",
    "oraciones= text.split('.')\n",
    "\n",
    "\n",
    "# Cilco for que encuantra datos curiosos.\n",
    "for item in oraciones:\n",
    "    if 'temperature' in item or 'average' in item or 'satellite' in item:\n",
    "      #  print(f'Curious fact: {item}\\n') \n",
    "      print(f'Curios fact: {item}')\n",
    "\n"
   ]
  },
  {
   "cell_type": "markdown",
   "metadata": {},
   "source": [
    "### Actualizacion del bucle para cambiar de C a Celsius:"
   ]
  },
  {
   "cell_type": "code",
   "execution_count": 27,
   "metadata": {},
   "outputs": [
    {
     "name": "stdout",
     "output_type": "stream",
     "text": [
      " The highest daylight temperature of the Moon is 127 Celcius\n"
     ]
    }
   ],
   "source": [
    "for item in oraciones:\n",
    "    if  item.endswith('C'): \n",
    "      print(item.replace('C','Celcius'))\n",
    "      break\n"
   ]
  },
  {
   "cell_type": "markdown",
   "metadata": {},
   "source": [
    "# Ejercicio 2: Formateando Cadenas."
   ]
  },
  {
   "cell_type": "code",
   "execution_count": 41,
   "metadata": {},
   "outputs": [
    {
     "name": "stdout",
     "output_type": "stream",
     "text": [
      "Datos acerca de la gravedad \n",
      "  ----------------------------------------\n",
      "Planeta:earth\n",
      "Gravedad:1.6199999999999999 m/s2\n",
      "Nombre:moon\n",
      "\n",
      " \n",
      "Datos acerca de la gravedad \n",
      "  ----------------------------------------\n",
      "Planeta:Marte \n",
      "Gravedad:1.4300000000000002 m/s2\n",
      "Nombre:Ganímedes\n",
      "\n",
      " \n"
     ]
    }
   ],
   "source": [
    "name= 'moon'\n",
    "gravity=0.00162\n",
    "planet='earth'\n",
    "\n",
    "# Cración del Titulo\n",
    "titulo=f\"Datos acerca de la gravedad \\n\"\n",
    "\n",
    "# Plantilla\n",
    "plantilla=f\"\"\" {'-'*40}\n",
    "Planeta:{planet}\n",
    "Gravedad:{gravity*1000} m/s2\n",
    "Nombre:{name}\n",
    "\n",
    " \"\"\"\n",
    "# Union\n",
    "union=f'{titulo} {plantilla}'\n",
    "print(union)\n",
    "\n",
    "planet = 'Marte '\n",
    "gravity  = 0.00143\n",
    "name = 'Ganímedes'\n",
    "\n",
    "nueva_plantilla=f\"\"\" {'-'*40}\n",
    "Planeta:{planet}\n",
    "Gravedad:{gravity*1000} m/s2\n",
    "Nombre:{name}\n",
    "\n",
    " \"\"\"\n",
    "print(f'{titulo} {nueva_plantilla}')\n",
    "\n"
   ]
  }
 ],
 "metadata": {
  "interpreter": {
   "hash": "d65f8af9b1347936d5c0a715a1a101b7602968bee42a1bc2161adfc924f1cbb0"
  },
  "kernelspec": {
   "display_name": "Python 3.9.7 64-bit",
   "language": "python",
   "name": "python3"
  },
  "language_info": {
   "codemirror_mode": {
    "name": "ipython",
    "version": 3
   },
   "file_extension": ".py",
   "mimetype": "text/x-python",
   "name": "python",
   "nbconvert_exporter": "python",
   "pygments_lexer": "ipython3",
   "version": "3.9.7"
  },
  "orig_nbformat": 4
 },
 "nbformat": 4,
 "nbformat_minor": 2
}
