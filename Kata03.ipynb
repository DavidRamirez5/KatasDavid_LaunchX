{
 "cells": [
  {
   "cell_type": "markdown",
   "metadata": {},
   "source": [
    "# Ejercicios if,else y elif.\n",
    "\n",
    "La velocidad del asteriode varía dependiendo de lo cerca que esté del sol, y cualquier velocidad a 25 km/s merece una advertencia"
   ]
  },
  {
   "cell_type": "markdown",
   "metadata": {},
   "source": [
    "### Caso 1: \n",
    "Un asteroride se acerca, y viaja a una velocidad de 49 km/s"
   ]
  },
  {
   "cell_type": "code",
   "execution_count": 3,
   "metadata": {},
   "outputs": [
    {
     "name": "stdout",
     "output_type": "stream",
     "text": [
      "ADVERTENCIA: Se acerca un asteroride con una velocidad de:  49 km/s\n"
     ]
    }
   ],
   "source": [
    "velociadA= 49\n",
    "\n",
    "if velociadA > 25:\n",
    "    print(\"ADVERTENCIA: Se acerca un asteroride con una velocidad de: \",velociadA, \"km/s\")\n",
    "else:\n",
    "    print(\"Sin peligro de asteroides\")\n"
   ]
  },
  {
   "cell_type": "markdown",
   "metadata": {},
   "source": [
    "### Caso 2\n",
    "Si un asteroide entra en la atmósfera de la Tierra a una velocidad mayor o igual a 20 km/s, a veces produce un rayo de luz que se puede ver desde la Tierra. Escribe la lógica condicional que usa declaraciones if, else, y elif para alertar a las personas de todo el mundo que deben buscar un asteroide en el cielo. ¡Hay uno que se dirige a la tierra ahora a una velocidad de 19 km/s!"
   ]
  },
  {
   "cell_type": "code",
   "execution_count": 6,
   "metadata": {},
   "outputs": [
    {
     "name": "stdout",
     "output_type": "stream",
     "text": [
      "Sin asteroides cercanos\n"
     ]
    }
   ],
   "source": [
    "VelocidadA= 19\n",
    "\n",
    "# mayor o igiual20km\n",
    "# mayor a 25 km\n",
    "# else sin peligor\n",
    "\n",
    "if VelocidadA > 25:\n",
    "    print(\"ADVERTENCIA: Se acerca un asteroride con una velocidad de: \",velociadA, \"km/s\")\n",
    "elif VelocidadA >= 20:\n",
    "    print('Busca Asteroide, para ver su rayo de luz!')\n",
    "else:\n",
    "    print(\"Sin asteroides cercanos\")"
   ]
  },
  {
   "cell_type": "markdown",
   "metadata": {},
   "source": [
    "# Ejercicios: And y Or"
   ]
  },
  {
   "cell_type": "markdown",
   "metadata": {},
   "source": [
    "Escribe un programa que emita la advertencia o información correcta a la gente de la Tierra, según la velocidad y el tamaño de un asteroide. Utiliza instrucciones if, else, y elif, así como los operadores and y or.\n",
    "\n",
    "- Los asteroides de menos de 25 metros en su dimensión más grande probablemente se quemarán a medida que entren en la atmósfera de la Tierra.\n",
    "\n",
    "- Si una pieza de un asteroide que es más grande que 25 metros pero más pequeña que 1000 metros golpeara la Tierra, causaría mucho daño.\n",
    "\n",
    "- La velocidad del asteroide varía en función de lo cerca que esté del sol, y cualquier velocidad superior a 25 kilómetros por segundo (km/s) merece una advertencia.\n",
    "\n",
    "- Si un asteroide entra en la atmósfera de la Tierra a una velocidad mayor o igual a 20 km/s, a veces produce un rayo de luz que se puede ver desde la Tierra.\n"
   ]
  },
  {
   "cell_type": "code",
   "execution_count": 29,
   "metadata": {},
   "outputs": [
    {
     "name": "stdout",
     "output_type": "stream",
     "text": [
      "ADVERTENCIA: Se acerca un asteroide que podria destruir la tierra.\n"
     ]
    }
   ],
   "source": [
    "DimensionA=27\n",
    "VelocidadAsteroide=34\n",
    "# Advertencias: Solo si el asteroide mayores a 25m y velocidades mayores 25 km\n",
    "# Rayo de luz: velocidades mayores o iguales a 20 km\n",
    "# Día normal: Velocidades menores a 20 km y tamaños menores a 25m\n",
    "\n",
    "\n",
    "if DimensionA >25 and VelocidadAsteroide > 25:\n",
    "    print(\"ADVERTENCIA: Se acerca un asteroide que podria destruir la tierra.\")\n",
    "\n",
    "elif VelocidadAsteroide >= 20:\n",
    "    print(\"Busca en el cielo un asteroide para ver su rayo de luz\")\n",
    "elif velociadA<25:\n",
    "    print('Dia normal: Sin asteroides peligrosos')\n",
    "else:\n",
    "    print(\"Dia normal: Sin asteroides peligrosos\")\n"
   ]
  }
 ],
 "metadata": {
  "interpreter": {
   "hash": "d65f8af9b1347936d5c0a715a1a101b7602968bee42a1bc2161adfc924f1cbb0"
  },
  "kernelspec": {
   "display_name": "Python 3.9.7 64-bit",
   "language": "python",
   "name": "python3"
  },
  "language_info": {
   "codemirror_mode": {
    "name": "ipython",
    "version": 3
   },
   "file_extension": ".py",
   "mimetype": "text/x-python",
   "name": "python",
   "nbconvert_exporter": "python",
   "pygments_lexer": "ipython3",
   "version": "3.9.7"
  },
  "orig_nbformat": 4
 },
 "nbformat": 4,
 "nbformat_minor": 2
}
