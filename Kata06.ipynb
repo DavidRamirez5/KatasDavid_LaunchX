{
 "cells": [
  {
   "cell_type": "markdown",
   "metadata": {},
   "source": [
    "# Ejercicio 1: Crear y usar listas de Python.\n",
    "\n",
    "Ejercicio: Usar listas para almacenar nombres de planetas.\n"
   ]
  },
  {
   "cell_type": "code",
   "execution_count": 4,
   "metadata": {},
   "outputs": [
    {
     "name": "stdout",
     "output_type": "stream",
     "text": [
      "Dentro del sistema solar tenemos 8 planetas \n"
     ]
    }
   ],
   "source": [
    "#Cracion de la lista de planetas\n",
    "planets=['Mercurio','Venus','Tierra','Marte','Jupiter','Saturno','Urano','Neptuno']\n",
    "print(f'Dentro del sistema solar tenemos {len(planets)} planetas ')"
   ]
  },
  {
   "cell_type": "code",
   "execution_count": 6,
   "metadata": {},
   "outputs": [
    {
     "name": "stdout",
     "output_type": "stream",
     "text": [
      "Aunque ya no es condiderado un planeta solemos decir que el ultmimos planetas es: Plutón\n"
     ]
    }
   ],
   "source": [
    "#Agragamos plutón.\n",
    "planets.append('Plutón')\n",
    "print('Aunque ya no es condiderado un planeta solemos decir que el ultmimos planetas es:',planets[-1])"
   ]
  },
  {
   "cell_type": "markdown",
   "metadata": {},
   "source": [
    "# Ejercicio 2: Trabajando con datos de una lista.\n",
    "Usar slices para recuperar partes de una listas."
   ]
  },
  {
   "cell_type": "markdown",
   "metadata": {},
   "source": [
    "### Solicitamos al usuario nombre de un planeta"
   ]
  },
  {
   "cell_type": "code",
   "execution_count": 7,
   "metadata": {},
   "outputs": [],
   "source": [
    "# Creamos lista con planetas todos en minusculas.\n",
    "planets=['mercurio','venus','tierra','marte','jupiter','saturno','urano','neptuno']\n",
    "# Solicitamos al usuario nombre de un planeta\n",
    "nombre=input(\"Escribe el nombre de un planeta del Sistema Solar.\")"
   ]
  },
  {
   "cell_type": "markdown",
   "metadata": {},
   "source": [
    "### Encontramos el planeta en la lista"
   ]
  },
  {
   "cell_type": "code",
   "execution_count": 9,
   "metadata": {},
   "outputs": [],
   "source": [
    "planeta_solicitado=planets.index(nombre.lower())"
   ]
  },
  {
   "cell_type": "markdown",
   "metadata": {},
   "source": [
    "### Mostrar planetas más cercanos al sol que el que el usuario ingresó"
   ]
  },
  {
   "cell_type": "code",
   "execution_count": 10,
   "metadata": {},
   "outputs": [
    {
     "name": "stdout",
     "output_type": "stream",
     "text": [
      "Los planetas más cercanso al sol desde tu planeta son: ['mercurio', 'venus']\n"
     ]
    }
   ],
   "source": [
    "print(f'Los planetas más cercanso al sol desde tu planeta son: {planets[0:planeta_solicitado]}')"
   ]
  },
  {
   "cell_type": "markdown",
   "metadata": {},
   "source": [
    "### Mostrar planetas más alejados del sol que el que el usuario ingresó"
   ]
  },
  {
   "cell_type": "code",
   "execution_count": 13,
   "metadata": {},
   "outputs": [
    {
     "name": "stdout",
     "output_type": "stream",
     "text": [
      "Los planetas más alejados del sol desde tu planeta son: ['marte', 'jupiter', 'saturno', 'urano', 'neptuno']\n"
     ]
    }
   ],
   "source": [
    "print(f'Los planetas más alejados del sol desde tu planeta son: {planets[planeta_solicitado+1:]}')"
   ]
  }
 ],
 "metadata": {
  "interpreter": {
   "hash": "d65f8af9b1347936d5c0a715a1a101b7602968bee42a1bc2161adfc924f1cbb0"
  },
  "kernelspec": {
   "display_name": "Python 3.9.7 64-bit",
   "language": "python",
   "name": "python3"
  },
  "language_info": {
   "codemirror_mode": {
    "name": "ipython",
    "version": 3
   },
   "file_extension": ".py",
   "mimetype": "text/x-python",
   "name": "python",
   "nbconvert_exporter": "python",
   "pygments_lexer": "ipython3",
   "version": "3.9.7"
  },
  "orig_nbformat": 4
 },
 "nbformat": 4,
 "nbformat_minor": 2
}
